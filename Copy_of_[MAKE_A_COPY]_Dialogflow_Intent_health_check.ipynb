{
  "nbformat": 4,
  "nbformat_minor": 0,
  "metadata": {
    "colab": {
      "name": "Copy of [MAKE A COPY] Dialogflow Intent health check.ipynb",
      "provenance": [],
      "collapsed_sections": [],
      "include_colab_link": true
    },
    "kernelspec": {
      "name": "python3",
      "display_name": "Python 3"
    }
  },
  "cells": [
    {
      "cell_type": "markdown",
      "metadata": {
        "id": "view-in-github",
        "colab_type": "text"
      },
      "source": [
        "<a href=\"https://colab.research.google.com/github/DavidHernandez21/DavidHernandez21/blob/master/Copy_of_%5BMAKE_A_COPY%5D_Dialogflow_Intent_health_check.ipynb\" target=\"_parent\"><img src=\"https://colab.research.google.com/assets/colab-badge.svg\" alt=\"Open In Colab\"/></a>"
      ]
    },
    {
      "cell_type": "markdown",
      "metadata": {
        "id": "J1a1kYHwrcpm",
        "colab_type": "text"
      },
      "source": [
        "# Welcome to this Tutorial\n",
        "The code that follows will walk you through several things:\n",
        "\n",
        "\n",
        "1.   How to get programmatically use the the Dialogflow API and to interact with your agent programmatically\n",
        "2.   How to use Tensorflow Hub to get start with Tensorflow Modules and how to use it to generate Embeddings for your training phrases\n",
        "3.   Once the embeddings are created, how can we use them to detect problems in our Dialogflow agent.\n",
        "\n",
        "Before starting, we need to install few dependencies"
      ]
    },
    {
      "cell_type": "code",
      "metadata": {
        "id": "SNn0Sx-Ose7L",
        "colab_type": "code",
        "colab": {
          "base_uri": "https://localhost:8080/",
          "height": 35
        },
        "outputId": "ecc438aa-2574-4e99-c02f-d0ae7f5b5286"
      },
      "source": [
        "!pip install --quiet --upgrade tensorflow dialogflow scipy tensorflow-hub"
      ],
      "execution_count": 3,
      "outputs": [
        {
          "output_type": "stream",
          "text": [
            "\u001b[?25l\r\u001b[K     |█                               | 10kB 21.6MB/s eta 0:00:01\r\u001b[K     |██                              | 20kB 1.8MB/s eta 0:00:01\r\u001b[K     |███                             | 30kB 2.4MB/s eta 0:00:01\r\u001b[K     |████                            | 40kB 2.7MB/s eta 0:00:01\r\u001b[K     |█████                           | 51kB 2.1MB/s eta 0:00:01\r\u001b[K     |██████                          | 61kB 2.4MB/s eta 0:00:01\r\u001b[K     |███████                         | 71kB 2.6MB/s eta 0:00:01\r\u001b[K     |████████                        | 81kB 2.8MB/s eta 0:00:01\r\u001b[K     |█████████                       | 92kB 3.0MB/s eta 0:00:01\r\u001b[K     |██████████                      | 102kB 2.9MB/s eta 0:00:01\r\u001b[K     |███████████                     | 112kB 2.9MB/s eta 0:00:01\r\u001b[K     |████████████                    | 122kB 2.9MB/s eta 0:00:01\r\u001b[K     |█████████████                   | 133kB 2.9MB/s eta 0:00:01\r\u001b[K     |██████████████                  | 143kB 2.9MB/s eta 0:00:01\r\u001b[K     |███████████████                 | 153kB 2.9MB/s eta 0:00:01\r\u001b[K     |████████████████                | 163kB 2.9MB/s eta 0:00:01\r\u001b[K     |█████████████████               | 174kB 2.9MB/s eta 0:00:01\r\u001b[K     |██████████████████              | 184kB 2.9MB/s eta 0:00:01\r\u001b[K     |███████████████████             | 194kB 2.9MB/s eta 0:00:01\r\u001b[K     |████████████████████            | 204kB 2.9MB/s eta 0:00:01\r\u001b[K     |█████████████████████▏          | 215kB 2.9MB/s eta 0:00:01\r\u001b[K     |██████████████████████▏         | 225kB 2.9MB/s eta 0:00:01\r\u001b[K     |███████████████████████▏        | 235kB 2.9MB/s eta 0:00:01\r\u001b[K     |████████████████████████▏       | 245kB 2.9MB/s eta 0:00:01\r\u001b[K     |█████████████████████████▏      | 256kB 2.9MB/s eta 0:00:01\r\u001b[K     |██████████████████████████▏     | 266kB 2.9MB/s eta 0:00:01\r\u001b[K     |███████████████████████████▏    | 276kB 2.9MB/s eta 0:00:01\r\u001b[K     |████████████████████████████▏   | 286kB 2.9MB/s eta 0:00:01\r\u001b[K     |█████████████████████████████▏  | 296kB 2.9MB/s eta 0:00:01\r\u001b[K     |██████████████████████████████▏ | 307kB 2.9MB/s eta 0:00:01\r\u001b[K     |███████████████████████████████▏| 317kB 2.9MB/s eta 0:00:01\r\u001b[K     |████████████████████████████████| 327kB 2.9MB/s \n",
            "\u001b[?25h"
          ],
          "name": "stdout"
        }
      ]
    },
    {
      "cell_type": "code",
      "metadata": {
        "id": "eV-PUfKfiF2q",
        "colab_type": "code",
        "colab": {
          "base_uri": "https://localhost:8080/",
          "height": 35
        },
        "outputId": "873ac0cb-ed6c-4489-8ce3-2a61244140e1"
      },
      "source": [
        "import dialogflow_v2 as dialogflow\n",
        "import tensorflow as tf\n",
        "import tensorflow_hub as hub\n",
        "import numpy as np\n",
        "import pandas as pd\n",
        "from collections import defaultdict\n",
        "import os\n",
        "from google.colab import auth\n",
        "import pickle\n",
        "print(tf.__version__)"
      ],
      "execution_count": 66,
      "outputs": [
        {
          "output_type": "stream",
          "text": [
            "2.2.0\n"
          ],
          "name": "stdout"
        }
      ]
    },
    {
      "cell_type": "markdown",
      "metadata": {
        "id": "znWzuMVJiPX7",
        "colab_type": "text"
      },
      "source": [
        "Now, let's set the variables we need. These values should match the entried you used when creating a project and a service account"
      ]
    },
    {
      "cell_type": "code",
      "metadata": {
        "id": "xSATtr21thaG",
        "colab_type": "code",
        "cellView": "code",
        "colab": {}
      },
      "source": [
        "PROJECT_ID=\"prova-va-eni-dwpfjf\" # Set your GCP Project Id\n",
        "SERVICE_ACCOUNT_EMAIL=\"dialogflow-api-healthcheck@prova-va-eni-dwpfjf.iam.gserviceaccount.com\" # Set your Dialogflow service account email"
      ],
      "execution_count": 67,
      "outputs": []
    },
    {
      "cell_type": "markdown",
      "metadata": {
        "id": "L-Y4fC3ZixZs",
        "colab_type": "text"
      },
      "source": [
        "### Great\n",
        "Now, we need to authenticate your session so you can create a key for your service account.\n",
        "\n",
        "Follow the instructions in the output section of the cell below"
      ]
    },
    {
      "cell_type": "code",
      "metadata": {
        "id": "JDdAAVeVtMCX",
        "colab_type": "code",
        "colab": {
          "base_uri": "https://localhost:8080/",
          "height": 72
        },
        "outputId": "c6ce639e-772b-4b46-9fd3-0c6f6a6e5fa1"
      },
      "source": [
        "auth.authenticate_user()\n",
        "!gcloud config set project {PROJECT_ID}\n",
        "!gcloud iam service-accounts keys create sa-key.json \\\n",
        " --iam-account={SERVICE_ACCOUNT_EMAIL} --project={PROJECT_ID}"
      ],
      "execution_count": 68,
      "outputs": [
        {
          "output_type": "stream",
          "text": [
            "Updated property [core/project].\n",
            "created key [5ec18937b65affa05817cb9d88f31b109eb29a71] of type [json] as [sa-key.json] for [dialogflow-api-healthcheck@prova-va-eni-dwpfjf.iam.gserviceaccount.com]\n"
          ],
          "name": "stdout"
        }
      ]
    },
    {
      "cell_type": "markdown",
      "metadata": {
        "id": "VhAkJYYLjRvO",
        "colab_type": "text"
      },
      "source": [
        "#### Let's take a snapshot of your Dialogflow account\n",
        "\n",
        "The following code will issue two api calls to read the entities and the intents of your Dialogflow agent. We'll need these to perform our analysis"
      ]
    },
    {
      "cell_type": "code",
      "metadata": {
        "id": "qao-CnY2u0aV",
        "colab_type": "code",
        "colab": {}
      },
      "source": [
        "def fetch_intents_training_phrases(service_account_file, project):\n",
        "\n",
        "  dialogflow_entity_client = dialogflow.EntityTypesClient.from_service_account_file(service_account_file)\n",
        "  parent = dialogflow_entity_client.project_agent_path(project)\n",
        "  entities = list(dialogflow_entity_client.list_entity_types(parent))\n",
        "\n",
        "  dialogflow_intents_client = dialogflow.IntentsClient.from_service_account_file(service_account_file)\n",
        "  parent = dialogflow_intents_client.project_agent_path(project)\n",
        "  intents = list(dialogflow_intents_client.list_intents(\n",
        "    parent=parent,\n",
        "    intent_view=dialogflow.enums.IntentView.INTENT_VIEW_FULL))\n",
        "\n",
        "  entities_name_to_value = {}\n",
        "  for intent in intents:\n",
        "      entities_used = {entity.display_name \n",
        "        for entity in intent.parameters}\n",
        "\n",
        "      for entity in entities:\n",
        "          if entity.display_name in entities_used \\\n",
        "                  and entity.display_name not in entities_name_to_value:\n",
        "                  \n",
        "              entities_name_to_value[entity.display_name] = np.random.choice(\n",
        "                  np.random.choice(entity.entities).synonyms, replace=False)\n",
        "\n",
        "  intent_training_phrases = defaultdict(list)\n",
        "  for intent in intents:\n",
        "      for training_phrase in intent.training_phrases:\n",
        "\n",
        "          parts = [\n",
        "              entities_name_to_value[part.alias] \n",
        "              if part.alias in  entities_name_to_value else part.text\n",
        "              for part in training_phrase.parts\n",
        "          ]\n",
        "          intent_training_phrases[intent.display_name].append(\n",
        "              \"\".join(parts))\n",
        "      # Remove intents with no training phrases\n",
        "      if not intent_training_phrases[intent.display_name]:\n",
        "          del intent_training_phrases[intent.display_name]\n",
        "  return intent_training_phrases\n"
      ],
      "execution_count": 69,
      "outputs": []
    },
    {
      "cell_type": "code",
      "metadata": {
        "id": "5_H98m8dIY0d",
        "colab_type": "code",
        "colab": {
          "base_uri": "https://localhost:8080/",
          "height": 55
        },
        "outputId": "960437de-3682-4120-e610-1990a4572b0a"
      },
      "source": [
        "intent_training_phrases = fetch_intents_training_phrases(\"sa-key.json\", PROJECT_ID)\n",
        "\n",
        "for intent in intent_training_phrases:\n",
        "  print(\"{}:{}\".format(intent, intent_training_phrases[intent]))\n",
        "  break"
      ],
      "execution_count": 70,
      "outputs": [
        {
          "output_type": "stream",
          "text": [
            "bollette_pagamenti:['Devo darvi altri soldi', 'Sono in arretrato di qualche bolletta', 'Mi sono dimenticato di pagare qualche bolletta', 'Vorrei sapere se per il numero cliente che ho digitato le fatture risultano tutte saldate', 'Volevo sapere a che punto sono i miei pagamenti', 'Buongiorno, vorrei conoscere lo stato dei miei pagamenti.', 'Ho delle bollette scadute?', 'Sì, ho pagato la bolletta, controlli?', 'Salve ho pagato la fattura luce con postepay tramite applicazione, ma non mi mostra se il pagamento sia andato a buon fine o meno, puo controllare?', 'Buongiorno, volevo sapere se ho qualche bolletta non pagata', 'vorrei sapere se ci sono delle fatture da pagare', 'Salve, può controllare se ho fatture scoperte, perchè sulla fattura appena ricevuta mi segnala una precedente fattura non pagata ma io le ho saldate tutte.', 'Vorrei sapere lo stato dei miei pagamenti, se ho qualche bolletta arretrata perchè non mi stanno arrivando le fatture', 'ho qualcosa indietro da pagare ?', 'voglio sapere se mi manca qualche bolletta', \"ho pagato stamattina una bolletta mi controlla se c'è il pagamento\", 'Ho ricevuto una fattura che scadeva il 15/04, pagata oggi.Volevo sapere se risulti il pagamento', 'buongiorno volevo vedere se ho qualche fattura da pagare', 'volevo sapere se vi risulta pagata la fattura', 'Mi vede se risulta il pagamento che ho fatto oggi?', 'Mi vede se risulta il pagamento di ieri?', \"Buongiorno, mi puoi inviare l'estratto conto dei pagamenti?\", 'vorrei controllare lo stato dei pagamenti', 'vorrei sapere la situazione dei miei pagamenti e quali bollette devo saldare', 'volevo sapere se lo stato dei pagamenti della mia fornitura', 'Ho pagato ieri, può controllare per favore se sono arrivati i soldi?', 'vorrei capire lo stato dei pagamenti', 'Buongiorno, vorrei verificare se ci sono nuove bollette da pagare.', 'Buongiorno,non ricordo se ho delle fatture da pagare. Mi potete aggiornare?', 'Buongiorno ho pagato una bolletta tramite bonifico e volevo sapere se il pagamento è arrivato', \"volevo un po' sapere come sono messo con le fatture\", \"Mi puo' fornire il numero cliente che verifichiamo insieme le fatture emesse?\", 'Può controllare se le fatture risultano tutte pagate?', 'Volevo sapere se ci sono fatture insolute', 'Buongiorno, ci sono bollette in sospeso?', \"C'è qualche pagamento che non risulta registrato?\", 'Mi hanno mandato un sollecito, perchè? Io ho pagato tutto', \"Buongiorno, ho ricevuto un sollecito ma la bolletta l'ho pagata, può controllare la situazione dei pagamenti?\", 'ho pagato una fattura è possibile vedere se già risulta il pagamento?', 'Salve mi è arrivato un sollecito di pagamento di una fattura che ho già pagato, può verificare?', \"non ricevo le fatture da un po' , può vedere se è tutto pagato ?\", 'io ho pagato ieri, perché non vi risulta?', 'ieri ho pagato perchè mi è arrivato il sollecito?', 'mi può controllare se ci sono fatture arretrate?', 'Vede come è la situazione dei miei pagamenti?', \"Buongiorno, mi puoi dire l'importo della prossima fattura?\", 'vorrei conoscere le fatture non pagate', 'mi è arrivato un sollecito di pagamento ma non ho mai ricevuto la fattura', 'mi è arrivato un sollecito di pagamento ma io ricordo di aver pagato tutto, può controllare?', \"Sono rimasto un po' indietro con i pagamenti, mi dice quanto devo in tutto?\", 'volevo sapere se ci sono delle fatture non pagate', 'Buongiorno, vorrei sapere se ho degli insoluti.', \"Buon pomeriggio,ho pagato l'ultima fattura con bonifico bancario, avete ricevuto il pagamento?\", 'Salve vorrei sapere se ci sono bollette non pagate', 'ho avuto una serie di problemi e sono indietro con delle fatture sa dirmi quanto devo?', \"Può controllare se l'ultima fattura emessa risulta saldata?\", 'Buongiorno, chiamo per mia madre, vorrei sapere se ci sono bollette scadute e se è tutto a posto.', 'Puoi controllare se mia madre ha delle bollette scadute?', 'Salve, ho trovato delle bollette nella cassetta della posta ma alcune le ho già pagate, posso sapere quali sono quelle ancora da pagare?', 'Salve, ho problemi di posta, e sono mesi che non ricevo fatture, può controllare se è stata emessa e che importo ha la fattura?', 'ho appena pagato una fattura, vi risulta il pagamento ?', 'mi può controllare le mie bollette, se è tutto regolare?', \"in fattura c'è scritto che manca un pagamento ma io ho pagato oggi me lo contabilizza?\", 'salve ho pagato la fattura online volevo sapere se vi risulta il pagamento', 'Risultano tutte pagate le fatture?', 'Buongiorno, mi è arrivato un sollecito del pagamento, ma ho già pagato. Risultano sui vostri sistemi i pagamenti?', 'mi dite cosa devo pagare ancora?', \"non trovo la ricevuta di un pagamento effettuato, vorrei sapere se c'è qualcosa da saldare\", 'Mi può dire quali sono i pagamenti da fare?', 'Mi scusi quante bollette mi sono rimaste scoperte?', 'ho inviato un fax per la dimostrazione di un pagamento, è stato registrato?', 'Non ho ancora ricevuto la fattura. Lei vede se è già uscita e scaduta?', 'Buon pomeriggio,ho pagato la fattura 2 volte per errore. Vi risulta? Come posso avere il rimborso?', 'Buonasera vorrei sapere lo stato dei miei pagamenti', \"non trovo la ricevuta di un pagamento mi puo' verificare se ho pagato\", 'Potrei avere il riepilogo dei miei pagamenti?', 'Buongiorno, potrebbe controllare se ho delle bollette in sospeso?', 'SI.. Vi ho già detto tre volte che la bolletta del gas non la pago.. è sbagliata !! volete capirlo o no ??', 'Ciao, non ricevo bollette da un pò, volevo sapere se ho qualche insoluto', 'oggi mi avete inviato il sollecito , ma io ho pagato ieri può controllare se è tutto saldato ?', \"non ho ricevuto la fattura ma la banca l'ha pagata, può controllare?\", 'ho pagato la fattura scaduta volevo sapere se avete ricevuto il pagamento', \"Buongiorno, dal sito risulta che ho una fattura insoluta, ma l'ho pagata dalla app. Puoi verificare?\", 'vorrei sapere le fatture insolute', 'ho pagato una fattura ma dal sito ancora non risulta', 'vorrei controllare la situazione delle mie bollette', 'vorrei sapere se ci sono fatture non pagate?', \"Ho pagato delle bollette scadute. L'incasso lo vedete già?\", 'Ho ricevuto un sollecito di pagamento ma ricordo di aver saldato tutto.potete fornirmi maggiori informazioni?', 'Ho pagato una bolletta due volte per errore, vi risulta?', \"mi chiedete delle fatture ma ho gia' pagato ...\", \"Verifichiamo se il pagamento  e' pervenuto\", 'Scusi ma da sistema la mia situazione relativa ai pagamenti le risulta regolare?', 'Buongiorno, ho ricevuto un messaggio, potrebbe controllare se i pagamenti sono regolari?', 'Avevo delle bollette scadute ora è tutto a posto vero??', \"non mi arriva la fattura da un pò la banca l'ha pagata può verificare ?\", 'Buongiorno, ho effettuato un pagamento doppio della stessa fattura. Risulta a sistema il doppio importo?', 'mi dite cosa devo pagare?', 'non ho ricevuto la fattura prevista per il mese in corso, vorrei conoscere gli importi che devo saldare', 'chiamo per la fornitura di mio padre, mi può dire la sua situazione', 'Mi è arrivato un sollecito ma ho pagato tutto, Può verificare?', 'Ho ricevuto un sollecito di pagamento ma io ho il bollettino pagato,che faccio?', 'Mi arrivano fatture di continuo ma quanto vi devo pagare ancora?', 'Ho ricevuto un sollecito di pagamento che ho già effettuato e vorrei capire se è stato registrato.', 'ho dei dubbi sullo stato dei miei pagamenti', \"ho pagato l'ultima bolletta e volevo comunicarvelo\", 'come faccio a comunicarvi che ho pagato?', 'Mi dice che bollette devo pagare', 'vorrei sapere lo stato dei miei pagamenti', 'le mie bollette sono tutte pagate?', 'ho pagato la bolletta, vorrei sapere se vi è arrivato il pagamento', 'Come visualizzo lo stato dei pagamenti?', 'vorrei verificare lo stato dei miei pagamenti', 'Volevo sapere se le bollette risultano pagate', 'ho qualcosa da pagare?', 'ho appena pagato, quando verrà registrato il pagamento?', 'Posso ricevere un estratto conto dei pagamenti?', 'Ho pagato tutto?', 'Ho dei problemi con la posta, può controllare se devo pagare delle fatture?', 'vorrei essere aggiornata sullo stato dei pagamenti sino alla data odierna', 'Salve, vorrei sapere cosa risulta a livello pagamenti per la mia fornitura luce.', 'ho fatto il pagamento della bolletta, a voi risulta avvenuto il pagamento?', 'Posso monitorare i miei pagamenti da web?', 'Quali sono le modalità per accedere allo stato delle mie bollette?', 'le mie bollette risultano pagate?', 'Qual è lo stato dei miei pagamenti?', 'Da chi vengo a sapere lo stato dei miei pagamenti?', 'Come posso fare  per sapere lo stato dei miei pagamenti', 'ho avuto un sollecito ma mi risulta di aver pagato tutte le fatture', \"Ho effettuato il pagamento delle bollette con bonifico bancario, potete constatare l'operazione?\", 'Ho ricevuto degli addebiti sul mio conto in banca, a che cosa fanno riferimento?', 'vorrei sapere se vi risulta qualche problema sui pagamenti', 'Ho pagato di recente la bolletta ma sulla mia area privata sul sito risulta ancora non pagata.', 'Posso avere la mia situazione pagamenti aggiornata?', 'ci sono dei pagamenti in sospeso?', \"qual'è la bolletta che non risulta pagata?\", 'vorrei sapere se ho delle bollette da pagare', 'Dove posso verificare lo stato dei miei pagamenti?', 'Ho effettuato un pagamento ma non risulta, cosa devo fare?', 'vorrei sapere se vi risulta il pagamento della mia ultima bolletta', 'Quando scade la prossima bolletta?', 'quando scade la bolletta?', 'salve, vorrei sapere quante rate mi mancano per concludere il pagamento.', 'posso visualizzare dalla mia area personale il dettaglio di eventuali insoluti', 'Vorrei sapere se ho arretrati', \"Ho richiesto l'addebito in banca ma ho ricevuto la fattura con il bollettino devo pagarla alla posta?\", \"il pagamento non risulta effettuato sull'app. perché?\", \"Salve, volevo sapere se c'è qualcosa da pagare per la mia utenza.\", 'come posso fare per darvi evidenza del pagamento effettuato?', 'Perchè ho ricevuto un sollecito di pagamento? Ho pagato tutte le bollette', 'Qualora decidessi di avere questa informazioni sullo stato dei miei pagamenti per via cartacea ci sarebbero ulteriori costi ?', 'ho qualche bolletta da pagare?', 'Potete mandarmi un riepilogo?', 'Con che tempestività mi vengono comunicati i pagamenti da effettuare?', 'che canali posso utilizzare per sapere lo stato dei miei pagamenti', \"mi avete sollecitato una fattura di dicembre 2019 ma non l'ho mai avuta\", 'La bolletta della luce e del gas è stata pagata ma non risulta sul sito potete verificare?', 'Non ricordo se ho pagato la scorsa bolletta, potete verificare?', 'come è lo stato dei pagamenti?', 'Mi è arrivata la comunicazione sui pagamenti ce risultano non effettuati e vorrei capire lo stato del mio conto', \"Mi puo' mandare il mio estratto conto\", \"c'è qualche pagamento in sospeso?\", 'mi mandate il bollettino della bolletta non pagata?', \"ho ricevuto un sms che diceva di pagare la bolletta, io l'ho pagata, vi risulta?\", 'Se c’è un problema verrò contattato?', \"Cosa devo fare se non ho ricevuto l'ultima bolletta?\", 'Posso pagare a rate la bolletta?', 'devo pagare qualcosa?', 'vorrei sapere se ho fatture scadute', 'Ho pagato tutte le bollette?', 'Ho ricevuto il sollecito di una fattura che ho già pagato come posso inviarvi la ricevuta di pagamento?', \"Dall'app non ho evidenza del pagamento effettuato.\", 'Salve, vorrei conoscere lo stato dei miei pagamenti.', 'ho ricevuto comunicazione che non risulta pagata una bolletta, io ho il pagamento diretto in banca, come mai la bolletta risulta non pagata?', 'Mi può comunicare le bollette in sospeso?', 'non ricordo se ho pagato la penultima bolletta', 'ci sono canali dedicati a conoscere lo stato dei miei pagamenti?', 'potete controllare che sono arrivati tutti i miei pagamenti', \"E' stato registrato il pagamento da me effettuato? Ho eseguito il pagamento da una settimana circa.\", 'Mi è arrivato un sollecito ma io ho pagato tutto, potete verificare?', 'possiamo controllare i pagamenti?', \"Di solito pago tutto regolarmente ma non so perché l'ultimo pagamento risulta non effettuato\", 'Le mie bollette sono regolari?', \"qual'è il mio stato pagamenti?\", \"ho pagato tutte le bollette, qual'è che non risulta pagata?\", 'Posso cambiare il metodo di pagamento?', 'Ho ricevuto la bolletta oltre il termine di scadenza, cosa devo fare?', 'Posso pagare le bollette tramite domiciliazione bancaria?', 'Ho ricevuto un sms ma io non ho la bolletta', 'Quanto devo pagare ancora?', 'Non posso pagare la fattura, posso richiedere una rateizzazione?', 'Buongiorno, volevo sapere se risultano delle morosità o qualche pagamento scoperto.', 'volevo sapere se tutte le mie bollette risultano pagate', 'Quanto tempo ho per pagare una bolletta?', \"mi è arrivata un'email che dice che non ho pagato\", 'Quale ascolto viene dato a possibili contestazioni delle fatture ricevute?', 'via web è possibile verificare in autonomia lo stato dei pagamenti', 'vorrei mettermi in regola con i pagamenti potete mandarmi un estratto conto?', \"Come posso constatare l'avvenuto pagamento delle bollette?\", 'Ho ricevuto un sollecito e vorrei pagare, cosa devo fare?', 'vi risultano irregolarità dei pagamenti?', 'ci sono problemi con i pagamenti?', \"pago tutte le bollette, forse una non è arrivata,qual'è ?\", 'A quanto ammonta la mora per mancato pagamento?', 'Potete mandarmi la copia delle bollette da pagare?', 'ho dato i numeri del contatore e la signorina mi ha detto di non pagare la bolletta e aspettare la prossima. Adesso che cosa ho da pagare?', 'posso posticipare il pagamento di una bolletta?', 'Quanto vi devo ancora?', 'Come posso pagare la fattura senza andare in posta?', 'Buongiorno, volevo sapere se ho pagato tutto.', 'come mai mi avete mandato comunicazione che la bolletta non risulta pagata?', 'In che tempi so della risoluzione di possibili contenziosi?', 'eventualmente è possibile scaricare il pagamento effettuato?', 'non ho più la domiciliazione come faccio a pagare le bollette morose?', \"Vi chiedo una verifica dell'avvenuto pagamento tramite domiciliazione perchè la banca mi ha detto che ci sono stati problemi.\", 'Con quali metodi di pagamenti posso pagare?', 'vorrei vedere la lista dei pagamenti']\n"
          ],
          "name": "stdout"
        }
      ]
    },
    {
      "cell_type": "markdown",
      "metadata": {
        "id": "rUMUOAIFGW8A",
        "colab_type": "text"
      },
      "source": [
        "### Let's create some embeddings\n",
        "\n",
        "Embeddings are a projection of your data on a space with fewer dimensions\n",
        "compared to the original space.\n",
        "\n",
        "It is a lossy transformation and, in this case, we transform the training phrases into points in a space with 512 dimensions.\n",
        "\n",
        "To do so, we'll use a Tensorflow hub module. [The universal sentence encoder](https://tfhub.dev/google/universal-sentence-encoder/2).\n",
        "\n",
        "Before working on our data, let's see how it works.\n",
        "\n",
        "Please note that for each new session the following code block can take a while to complete.\n",
        "This is because for every session, Google Cloud provisions a new virtual machine, and we need to download the Tensorflow hub module. \n"
      ]
    },
    {
      "cell_type": "code",
      "metadata": {
        "id": "uQHoK4FOHP9u",
        "colab_type": "code",
        "colab": {}
      },
      "source": [
        "# tf.contrib.resampler\n",
        "import tensorflow.compat.v1 as tf\n",
        "#To make tf 2.0 compatible with tf1.0 code, we disable the tf2.0 functionalities\n",
        "tf.disable_eager_execution()\n",
        "\n",
        "# !pip3 install tensorflow_text>=2.0.0rc0\n",
        "import tensorflow_text\n",
        "\n",
        "import shutil\n",
        "if os.path.isdir('/tmp/tfhub_modules/97e68b633b7cf018904eb965602b92c9f3ad14c9'):\n",
        "  shutil.rmtree('/tmp/tfhub_modules/97e68b633b7cf018904eb965602b92c9f3ad14c9')\n",
        "\n",
        "# embed_module = hub.Module(\"https://tfhub.dev/google/universal-sentence-encoder/2\", name=\"usc2\", trainable=True)\n",
        "# https://tfhub.dev/google/universal-sentence-encoder-multilingual/3\n",
        "# embed_module_2 = hub.Module(\"https://tfhub.dev/google/universal-sentence-encoder-multilingual/2\", name=\"usc9\", trainable=True)\n",
        "embed_module_1 = hub.load(\"https://tfhub.dev/google/universal-sentence-encoder-multilingual-large/3\")"
      ],
      "execution_count": 71,
      "outputs": []
    },
    {
      "cell_type": "markdown",
      "metadata": {
        "id": "fK7VgQKZkTJ0",
        "colab_type": "text"
      },
      "source": [
        "Now that we have the module and the Tensorflow operation defined, we can construct the first embeddings.\n",
        "\n",
        "Before deep-diving in our Dialogflow's training phrases, let's analyze a small and simple synthetic example"
      ]
    },
    {
      "cell_type": "code",
      "metadata": {
        "id": "0XFREDe8kSMc",
        "colab_type": "code",
        "colab": {}
      },
      "source": [
        "def make_embeddings_fn():\n",
        "  placeholder = tf.placeholder(dtype=tf.string, shape=[None])\n",
        "  embed = embed_module_1(placeholder)\n",
        "  session = tf.Session()\n",
        "  session.run([tf.global_variables_initializer(), tf.tables_initializer()])\n",
        "  def _embeddings_fn(sentences):\n",
        "      computed_embeddings = session.run(\n",
        "        embed, feed_dict={placeholder: sentences})\n",
        "      return computed_embeddings\n",
        "  return _embeddings_fn\n",
        "\n",
        "generate_embeddings = make_embeddings_fn()"
      ],
      "execution_count": 72,
      "outputs": []
    },
    {
      "cell_type": "code",
      "metadata": {
        "id": "UZLqLTbwl_9f",
        "colab_type": "code",
        "colab": {
          "base_uri": "https://localhost:8080/",
          "height": 156
        },
        "outputId": "ef34f374-b1f0-4b02-b8e3-4a835f1a4088"
      },
      "source": [
        "sentences = [\n",
        "  \"donna\",\n",
        "  \"uomo\",\n",
        "  \"cane\",\n",
        "  \"gatto\"\n",
        "]\n",
        "computed_embeddings = generate_embeddings(sentences)\n",
        "computed_embeddings"
      ],
      "execution_count": 77,
      "outputs": [
        {
          "output_type": "execute_result",
          "data": {
            "text/plain": [
              "array([[-0.02529479,  0.01113481, -0.02789346, ..., -0.02214618,\n",
              "         0.06132194, -0.0277035 ],\n",
              "       [-0.03179109,  0.03381615, -0.04048672, ..., -0.04204452,\n",
              "         0.04799779, -0.02861096],\n",
              "       [ 0.01247474, -0.04704872, -0.01160761, ...,  0.00828644,\n",
              "         0.05655241, -0.01926563],\n",
              "       [ 0.05057176, -0.00646758, -0.01512738, ..., -0.00277747,\n",
              "         0.06158425,  0.03345183]], dtype=float32)"
            ]
          },
          "metadata": {
            "tags": []
          },
          "execution_count": 77
        }
      ]
    },
    {
      "cell_type": "markdown",
      "metadata": {
        "id": "9zvE35Ohk0O1",
        "colab_type": "text"
      },
      "source": [
        "Now you can see how the embeddings look like. Specifically, they are projections of the original sentences in a `512` dimensional space. This high-dimensional space is impossible to visualize for a human. So, let's project them to a 3-d space that we can visualize and comprehend.\n",
        "\n",
        "To achieve this, we use Principal Component Analysis (PCA). PCA is a lossy transformation that conserves most of the variance in the data. This let's us plot the points in a 3d space while conserving the best we can the distance between the sentences.\n",
        "\n",
        "Let's also print the relative distances between every point-pair."
      ]
    },
    {
      "cell_type": "code",
      "metadata": {
        "id": "M6rH0THPJUwg",
        "colab_type": "code",
        "colab": {
          "base_uri": "https://localhost:8080/",
          "height": 606
        },
        "outputId": "806a1bed-6b52-4804-8f0c-b57fcb1933a2"
      },
      "source": [
        "from sklearn.decomposition import PCA\n",
        "import matplotlib.pyplot as plt\n",
        "import math\n",
        "\n",
        "point_size=200\n",
        "\n",
        "pca = PCA(n_components=2)\n",
        "points_2d = pca.fit_transform(computed_embeddings)\n",
        "\n",
        "fig = plt.figure(figsize=(16,10))\n",
        "ax = fig.add_subplot(111)\n",
        "\n",
        "for point, marker in zip(points_2d, ['o', '^', '*', 's']):\n",
        "  xs = point[0]\n",
        "  ys = point[1]\n",
        "  ax.scatter(xs, ys, marker=marker, s=point_size)\n",
        "\n",
        "ax.set_xlabel('X Dimension')\n",
        "ax.set_ylabel('Y Dimension')\n",
        "\n",
        "ax.legend(sentences)\n",
        "plt.show()"
      ],
      "execution_count": 78,
      "outputs": [
        {
          "output_type": "display_data",
          "data": {
            "image/png": "[encoded data removed]",
            "text/plain": [
              "<Figure size 1152x720 with 1 Axes>"
            ]
          },
          "metadata": {
            "tags": [],
            "needs_background": "light"
          }
        }
      ]
    },
    {
      "cell_type": "markdown",
      "metadata": {
        "id": "8lHNEi5F10RB",
        "colab_type": "text"
      },
      "source": [
        "As you can see, our method seems to work. 'Hi' and 'Hello' are similar sentences, and hence they remain closer than any other pair of sentences in our simple example.\n",
        "\n",
        "Let's now use this method to analyze our dialogflow training phrases"
      ]
    },
    {
      "cell_type": "code",
      "metadata": {
        "id": "vumjAEHc3d0J",
        "colab_type": "code",
        "colab": {}
      },
      "source": [
        "training_phrases_with_embeddings = defaultdict(list)\n",
        "for intent_name, training_phrases_list in intent_training_phrases.items():\n",
        "  computed_embeddings = generate_embeddings(training_phrases_list)\n",
        "  training_phrases_with_embeddings[intent_name] = dict(zip(training_phrases_list, computed_embeddings))"
      ],
      "execution_count": 79,
      "outputs": []
    },
    {
      "cell_type": "code",
      "metadata": {
        "id": "7EzLKfUJLX3H",
        "colab_type": "code",
        "colab": {
          "base_uri": "https://localhost:8080/",
          "height": 280
        },
        "outputId": "4aa2acc7-09aa-4064-98a0-1846c1d53fb0"
      },
      "source": [
        "for intent_name, _ in training_phrases_with_embeddings.items():\n",
        "  training_phrase, embeddings = next(iter(training_phrases_with_embeddings[intent_name].items()))\n",
        "  print(\"{}: {{'{}':{}}}\".format(intent_name, training_phrase, embeddings[:5]))"
      ],
      "execution_count": 80,
      "outputs": [
        {
          "output_type": "stream",
          "text": [
            "bollette_pagamenti: {'Devo darvi altri soldi':[ 0.06491958 -0.023535    0.02221653 -0.05452812  0.05902265]}\n",
            "domiciliazione: {'Vorrei informazioni sulla procedura SEPA':[-0.00939009  0.05910615  0.04919102  0.04874786  0.02182307]}\n",
            "attivazione: {'ho preso casa da poco e il vecchio proprietario ha disattivato tutte le utenze, come faccio a riattivare la luce?':[-0.05933695 -0.00984779  0.03144694  0.01107333 -0.0572104 ]}\n",
            "mancata_ricezione_fatturazione: {'Non mi è arrivata la bolletta':[-0.03005352 -0.04701748  0.01353724  0.0138259   0.00993949]}\n",
            "NDS: {'Vorrei cambiare l'intestazione della polizza':[-0.01279142  0.08065911  0.00530914  0.03113386  0.02246702]}\n",
            "stato_avanzamento_pratica: {'Come sta procedendo la mia richiesta di voltura':[-0.02651103  0.00709348  0.02875811  0.07169278 -0.04159699]}\n",
            "accettazione_preventivo: {'Nell elenco dei costi previsti ci sono alcune voci che non sono giustificate':[-0.03280256  0.0287707   0.00650099 -0.02007826  0.05400737]}\n",
            "cambio_intestazione: {'cambiare intestazione contratto':[-0.00948887 -0.00792574 -0.02675818  0.04715659  0.04450351]}\n",
            "operatore: {'vorrei parlare con un vostro operatore umano':[-0.04566145 -0.02070533 -0.05838945  0.00058285  0.01122619]}\n",
            "contratto: {'non voglio che scatti il contatore se accendo troppo elettrodomestici':[-0.02710662 -0.04661597 -0.0193914  -0.00130952 -0.01010435]}\n",
            "rateizzazione: {'Posso spalmare le mie spese su piu mesi?':[-0.04369333  0.01980016  0.02235034 -0.00743193 -0.05997952]}\n",
            "offerte_passaggio: {'ho letto che ci sarebbe una promozione voglio altre informazioni':[ 0.01691136 -0.04573726 -0.03253499  0.02157326  0.00879408]}\n",
            "autolettura: {'sto pagando troppo, voglio darvi i consumi reali del contatore':[-0.04765646 -0.04118188  0.01175704 -0.00115786  0.01068614]}\n",
            "Motivo_Chiamata_Fallback: {'Con un robot che non capisce niente non ci voglio parlare':[ 0.00881092 -0.05634943 -0.02648466 -0.04818223  0.06663593]}\n"
          ],
          "name": "stdout"
        }
      ]
    },
    {
      "cell_type": "markdown",
      "metadata": {
        "id": "oHvhF65s5vyS",
        "colab_type": "text"
      },
      "source": [
        "### Let's see how our training phrases are doing!\n"
      ]
    },
    {
      "cell_type": "code",
      "metadata": {
        "colab_type": "code",
        "id": "Ck0u6wp86DED",
        "colab": {
          "base_uri": "https://localhost:8080/",
          "height": 609
        },
        "outputId": "86ee977f-3068-4c0d-8cfe-6a4c2229842d"
      },
      "source": [
        "from sklearn.decomposition import PCA\n",
        "\n",
        "embedding_vectors = []\n",
        "\n",
        "for intent, training_phrases_and_embeddings in training_phrases_with_embeddings.items():\n",
        "  for training_phrase, embeddings in training_phrases_and_embeddings.items():\n",
        "    embedding_vectors.append(embeddings)\n",
        "\n",
        "embedding_vectors = np.asarray(embedding_vectors)\n",
        "\n",
        "pca = PCA(n_components=2)\n",
        "pca.fit(embedding_vectors)\n",
        "\n",
        "from mpl_toolkits.mplot3d import Axes3D\n",
        "import matplotlib.pyplot as plt\n",
        "\n",
        "fig = plt.figure(figsize=(15,10))\n",
        "ax = fig.add_subplot(111)\n",
        "\n",
        "legend = []\n",
        "\n",
        "index = 0\n",
        "\n",
        "for color, intent in enumerate(training_phrases_with_embeddings.keys()):\n",
        "  phrases = list(training_phrases_with_embeddings[intent].keys())[:4]\n",
        "  embeddings = list(training_phrases_with_embeddings[intent].values())[:4]\n",
        "  points = pca.transform(embeddings)\n",
        "  xs = points[:,0]\n",
        "  ys = points[:,1]\n",
        "  ax.scatter(xs, ys, marker='o', s=100, c=\"C\"+str(color))\n",
        "  for i, phrase in enumerate(phrases):\n",
        "    ax.annotate(phrase[:15] + '...', (xs[i], ys[i]))\n",
        "  legend.append(intent)\n",
        "  index += 1\n",
        "  if index > 4:\n",
        "    break\n",
        "\n",
        "print(index)\n",
        "ax.legend(legend)\n",
        "plt.show()"
      ],
      "execution_count": 81,
      "outputs": [
        {
          "output_type": "stream",
          "text": [
            "5\n"
          ],
          "name": "stdout"
        },
        {
          "output_type": "display_data",
          "data": {
            "image/png": "[encoded data removed]",
            "text/plain": [
              "<Figure size 1080x720 with 1 Axes>"
            ]
          },
          "metadata": {
            "tags": [],
            "needs_background": "light"
          }
        }
      ]
    },
    {
      "cell_type": "markdown",
      "metadata": {
        "id": "yIRawh94icS7",
        "colab_type": "text"
      },
      "source": [
        "### Cosine similarity\n",
        "[Cosine similarity](https://en.wikipedia.org/wiki/Cosine_similarity) is a similarity metric that scales well high-dimensional spaces. What it does is simple: given two vectors of numbers it calculates the cosine of angle between them.\n",
        "\n",
        "\n",
        "![formula](https://wikimedia.org/api/rest_v1/media/math/render/svg/1d94e5903f7936d3c131e040ef2c51b473dd071d)\n",
        "\n",
        "![](http://blog.christianperone.com/wp-content/uploads/2013/09/cosinesimilarityfq1.png)\n",
        "\n",
        "To calculate this we can use `sklearn.metrics` package without coding it ourselves.\n",
        "\n",
        "\n",
        "Before computing every possible pair of sentences, let's measure how *disperse* are our intents."
      ]
    },
    {
      "cell_type": "code",
      "metadata": {
        "id": "Q5VM6KqfibRT",
        "colab_type": "code",
        "colab": {}
      },
      "source": [
        "from sklearn.metrics.pairwise import cosine_similarity      \n",
        "\n",
        "flatten = []\n",
        "\n",
        "for intent in training_phrases_with_embeddings:\n",
        "  for phrase in training_phrases_with_embeddings[intent]:\n",
        "    flatten.append((intent, phrase,  training_phrases_with_embeddings[intent][phrase]))\n",
        "\n",
        "data = []\n",
        "for i in range(len(flatten)):\n",
        "  for j in range(i+1, len(flatten)):\n",
        "\n",
        "    intent_1 = flatten[i][0]\n",
        "    phrase_1 = flatten[i][1]\n",
        "    embedd_1 = flatten[i][2]\n",
        "\n",
        "    intent_2 = flatten[j][0]\n",
        "    phrase_2 = flatten[j][1]\n",
        "    embedd_2 = flatten[j][2]\n",
        "\n",
        "    similarity = cosine_similarity([embedd_1], [embedd_2])[0][0]\n",
        "\n",
        "    record = [intent_1, phrase_1, intent_2, phrase_2, similarity]\n",
        "    data.append(record)\n",
        "\n",
        "similarity_df = pd.DataFrame(data, \n",
        "  columns=[\"Intent A\", \"Phrase A\", \"Intent B\", \"Phrase B\", \"Similarity\"])"
      ],
      "execution_count": 82,
      "outputs": []
    },
    {
      "cell_type": "code",
      "metadata": {
        "id": "VmGZL9h8kShk",
        "colab_type": "code",
        "colab": {
          "base_uri": "https://localhost:8080/",
          "height": 390
        },
        "outputId": "d7630ee7-56ae-4749-f812-c3a50f004465"
      },
      "source": [
        "different_intent = similarity_df['Intent A'] != similarity_df['Intent B']\n",
        "similarity_df_not_1 = similarity_df[(similarity_df[\"Similarity\"] < .99) & (similarity_df[\"Intent A\"] != similarity_df[\"Intent B\"])]\n",
        "# similarity_df_not_1.head(1)\n",
        "# np.sort(np.unique(similarity_df_not_1[\"Similarity\"]))[-1]\n",
        "display(similarity_df_not_1.sort_values('Similarity', ascending=False).head(10))"
      ],
      "execution_count": 83,
      "outputs": [
        {
          "output_type": "display_data",
          "data": {
            "text/html": [
              "<div>\n",
              "<style scoped>\n",
              "    .dataframe tbody tr th:only-of-type {\n",
              "        vertical-align: middle;\n",
              "    }\n",
              "\n",
              "    .dataframe tbody tr th {\n",
              "        vertical-align: top;\n",
              "    }\n",
              "\n",
              "    .dataframe thead th {\n",
              "        text-align: right;\n",
              "    }\n",
              "</style>\n",
              "<table border=\"1\" class=\"dataframe\">\n",
              "  <thead>\n",
              "    <tr style=\"text-align: right;\">\n",
              "      <th></th>\n",
              "      <th>Intent A</th>\n",
              "      <th>Phrase A</th>\n",
              "      <th>Intent B</th>\n",
              "      <th>Phrase B</th>\n",
              "      <th>Similarity</th>\n",
              "    </tr>\n",
              "  </thead>\n",
              "  <tbody>\n",
              "    <tr>\n",
              "      <th>2903660</th>\n",
              "      <td>attivazione</td>\n",
              "      <td>Quanto ci vorrà per l'attivazione?</td>\n",
              "      <td>stato_avanzamento_pratica</td>\n",
              "      <td>Quanto tempo ci vorrà per la attivazione?</td>\n",
              "      <td>0.978517</td>\n",
              "    </tr>\n",
              "    <tr>\n",
              "      <th>650140</th>\n",
              "      <td>bollette_pagamenti</td>\n",
              "      <td>Posso pagare a rate la bolletta?</td>\n",
              "      <td>rateizzazione</td>\n",
              "      <td>Ma posso pagare in bolletta le rate?</td>\n",
              "      <td>0.965222</td>\n",
              "    </tr>\n",
              "    <tr>\n",
              "      <th>731607</th>\n",
              "      <td>bollette_pagamenti</td>\n",
              "      <td>Ho ricevuto un sms ma io non ho la bolletta</td>\n",
              "      <td>mancata_ricezione_fatturazione</td>\n",
              "      <td>mi è arrivato un sms ma io non ho quella bolletta</td>\n",
              "      <td>0.958516</td>\n",
              "    </tr>\n",
              "    <tr>\n",
              "      <th>2507224</th>\n",
              "      <td>attivazione</td>\n",
              "      <td>dovrei aprire il contatore del gas</td>\n",
              "      <td>contratto</td>\n",
              "      <td>devo chiudere il contatore del gas</td>\n",
              "      <td>0.956150</td>\n",
              "    </tr>\n",
              "    <tr>\n",
              "      <th>3186157</th>\n",
              "      <td>attivazione</td>\n",
              "      <td>I tempi di attivazione?</td>\n",
              "      <td>offerte_passaggio</td>\n",
              "      <td>Quali sono i tempi di attivazione?</td>\n",
              "      <td>0.954960</td>\n",
              "    </tr>\n",
              "    <tr>\n",
              "      <th>2927280</th>\n",
              "      <td>attivazione</td>\n",
              "      <td>Quali sono i tempi necessari per l'attivazione?</td>\n",
              "      <td>offerte_passaggio</td>\n",
              "      <td>Quali sono i tempi di attivazione?</td>\n",
              "      <td>0.950161</td>\n",
              "    </tr>\n",
              "    <tr>\n",
              "      <th>5688902</th>\n",
              "      <td>stato_avanzamento_pratica</td>\n",
              "      <td>Quando sarà attiva la mia fornitura?</td>\n",
              "      <td>accettazione_preventivo</td>\n",
              "      <td>Quando sarà attiva la fornitura?</td>\n",
              "      <td>0.949775</td>\n",
              "    </tr>\n",
              "    <tr>\n",
              "      <th>3491166</th>\n",
              "      <td>attivazione</td>\n",
              "      <td>devo far aprire il contatore</td>\n",
              "      <td>contratto</td>\n",
              "      <td>devo chiudere il contatore</td>\n",
              "      <td>0.938211</td>\n",
              "    </tr>\n",
              "    <tr>\n",
              "      <th>7548686</th>\n",
              "      <td>contratto</td>\n",
              "      <td>Possibile?</td>\n",
              "      <td>rateizzazione</td>\n",
              "      <td>E' possibile?</td>\n",
              "      <td>0.936670</td>\n",
              "    </tr>\n",
              "    <tr>\n",
              "      <th>3517681</th>\n",
              "      <td>attivazione</td>\n",
              "      <td>vorrei riattivare un contatore</td>\n",
              "      <td>contratto</td>\n",
              "      <td>Voglio riattivare il contatore</td>\n",
              "      <td>0.935605</td>\n",
              "    </tr>\n",
              "  </tbody>\n",
              "</table>\n",
              "</div>"
            ],
            "text/plain": [
              "                          Intent A  ... Similarity\n",
              "2903660                attivazione  ...   0.978517\n",
              "650140          bollette_pagamenti  ...   0.965222\n",
              "731607          bollette_pagamenti  ...   0.958516\n",
              "2507224                attivazione  ...   0.956150\n",
              "3186157                attivazione  ...   0.954960\n",
              "2927280                attivazione  ...   0.950161\n",
              "5688902  stato_avanzamento_pratica  ...   0.949775\n",
              "3491166                attivazione  ...   0.938211\n",
              "7548686                  contratto  ...   0.936670\n",
              "3517681                attivazione  ...   0.935605\n",
              "\n",
              "[10 rows x 5 columns]"
            ]
          },
          "metadata": {
            "tags": []
          }
        }
      ]
    },
    {
      "cell_type": "code",
      "metadata": {
        "id": "9uL5jlddR5OD",
        "colab_type": "code",
        "colab": {}
      },
      "source": [
        ""
      ],
      "execution_count": null,
      "outputs": []
    },
    {
      "cell_type": "markdown",
      "metadata": {
        "id": "r9IrieApn21z",
        "colab_type": "text"
      },
      "source": [
        "### Compute Intents Cohesion"
      ]
    },
    {
      "cell_type": "code",
      "metadata": {
        "id": "-2mjItlWLVP3",
        "colab_type": "code",
        "colab": {
          "base_uri": "https://localhost:8080/",
          "height": 509
        },
        "outputId": "9d24d228-2f8f-45f0-d908-62e7fee6ca4a"
      },
      "source": [
        "same_intent = similarity_df['Intent A'] == similarity_df['Intent B']\n",
        "cohesion_df = pd.DataFrame(similarity_df[same_intent].groupby('Intent A', as_index=False)['Similarity'].mean())\n",
        "cohesion_df.columns = ['Intent', 'Cohesion']\n",
        "display(cohesion_df.sort_values(\"Cohesion\"))"
      ],
      "execution_count": 61,
      "outputs": [
        {
          "output_type": "display_data",
          "data": {
            "text/html": [
              "<div>\n",
              "<style scoped>\n",
              "    .dataframe tbody tr th:only-of-type {\n",
              "        vertical-align: middle;\n",
              "    }\n",
              "\n",
              "    .dataframe tbody tr th {\n",
              "        vertical-align: top;\n",
              "    }\n",
              "\n",
              "    .dataframe thead th {\n",
              "        text-align: right;\n",
              "    }\n",
              "</style>\n",
              "<table border=\"1\" class=\"dataframe\">\n",
              "  <thead>\n",
              "    <tr style=\"text-align: right;\">\n",
              "      <th></th>\n",
              "      <th>Intent</th>\n",
              "      <th>Cohesion</th>\n",
              "    </tr>\n",
              "  </thead>\n",
              "  <tbody>\n",
              "    <tr>\n",
              "      <th>8</th>\n",
              "      <td>contratto</td>\n",
              "      <td>0.228834</td>\n",
              "    </tr>\n",
              "    <tr>\n",
              "      <th>1</th>\n",
              "      <td>NDS</td>\n",
              "      <td>0.231879</td>\n",
              "    </tr>\n",
              "    <tr>\n",
              "      <th>11</th>\n",
              "      <td>offerte_passaggio</td>\n",
              "      <td>0.241051</td>\n",
              "    </tr>\n",
              "    <tr>\n",
              "      <th>14</th>\n",
              "      <td>stato_avanzamento_pratica</td>\n",
              "      <td>0.251992</td>\n",
              "    </tr>\n",
              "    <tr>\n",
              "      <th>4</th>\n",
              "      <td>autolettura</td>\n",
              "      <td>0.255320</td>\n",
              "    </tr>\n",
              "    <tr>\n",
              "      <th>5</th>\n",
              "      <td>bollette_generico</td>\n",
              "      <td>0.281105</td>\n",
              "    </tr>\n",
              "    <tr>\n",
              "      <th>7</th>\n",
              "      <td>cambio_intestazione</td>\n",
              "      <td>0.297251</td>\n",
              "    </tr>\n",
              "    <tr>\n",
              "      <th>3</th>\n",
              "      <td>attivazione</td>\n",
              "      <td>0.325159</td>\n",
              "    </tr>\n",
              "    <tr>\n",
              "      <th>9</th>\n",
              "      <td>domiciliazione</td>\n",
              "      <td>0.346311</td>\n",
              "    </tr>\n",
              "    <tr>\n",
              "      <th>2</th>\n",
              "      <td>accettazione_preventivo</td>\n",
              "      <td>0.381202</td>\n",
              "    </tr>\n",
              "    <tr>\n",
              "      <th>0</th>\n",
              "      <td>Motivo_Chiamata_Fallback</td>\n",
              "      <td>0.384519</td>\n",
              "    </tr>\n",
              "    <tr>\n",
              "      <th>6</th>\n",
              "      <td>bollette_pagamenti</td>\n",
              "      <td>0.396734</td>\n",
              "    </tr>\n",
              "    <tr>\n",
              "      <th>10</th>\n",
              "      <td>mancata_ricezione_fatturazione</td>\n",
              "      <td>0.408395</td>\n",
              "    </tr>\n",
              "    <tr>\n",
              "      <th>12</th>\n",
              "      <td>operatore</td>\n",
              "      <td>0.413390</td>\n",
              "    </tr>\n",
              "    <tr>\n",
              "      <th>13</th>\n",
              "      <td>rateizzazione</td>\n",
              "      <td>0.418768</td>\n",
              "    </tr>\n",
              "  </tbody>\n",
              "</table>\n",
              "</div>"
            ],
            "text/plain": [
              "                            Intent  Cohesion\n",
              "8                        contratto  0.228834\n",
              "1                              NDS  0.231879\n",
              "11               offerte_passaggio  0.241051\n",
              "14       stato_avanzamento_pratica  0.251992\n",
              "4                      autolettura  0.255320\n",
              "5                bollette_generico  0.281105\n",
              "7              cambio_intestazione  0.297251\n",
              "3                      attivazione  0.325159\n",
              "9                   domiciliazione  0.346311\n",
              "2          accettazione_preventivo  0.381202\n",
              "0         Motivo_Chiamata_Fallback  0.384519\n",
              "6               bollette_pagamenti  0.396734\n",
              "10  mancata_ricezione_fatturazione  0.408395\n",
              "12                       operatore  0.413390\n",
              "13                   rateizzazione  0.418768"
            ]
          },
          "metadata": {
            "tags": []
          }
        }
      ]
    },
    {
      "cell_type": "code",
      "metadata": {
        "id": "uLpG39zXonvy",
        "colab_type": "code",
        "colab": {
          "base_uri": "https://localhost:8080/",
          "height": 202
        },
        "outputId": "e6cd4025-4493-471b-8556-2321f3cb0e0d"
      },
      "source": [
        "different_intent = similarity_df['Intent A'] != similarity_df['Intent B']\n",
        "separation_df = pd.DataFrame(similarity_df[different_intent].groupby(['Intent A', 'Intent B'], as_index=False)['Similarity'].mean())\n",
        "separation_df['Separation'] = 1 - separation_df['Similarity']\n",
        "del separation_df['Similarity']\n",
        "display(separation_df.sort_values('Separation')[:5])"
      ],
      "execution_count": 63,
      "outputs": [
        {
          "output_type": "display_data",
          "data": {
            "text/html": [
              "<div>\n",
              "<style scoped>\n",
              "    .dataframe tbody tr th:only-of-type {\n",
              "        vertical-align: middle;\n",
              "    }\n",
              "\n",
              "    .dataframe tbody tr th {\n",
              "        vertical-align: top;\n",
              "    }\n",
              "\n",
              "    .dataframe thead th {\n",
              "        text-align: right;\n",
              "    }\n",
              "</style>\n",
              "<table border=\"1\" class=\"dataframe\">\n",
              "  <thead>\n",
              "    <tr style=\"text-align: right;\">\n",
              "      <th></th>\n",
              "      <th>Intent A</th>\n",
              "      <th>Intent B</th>\n",
              "      <th>Separation</th>\n",
              "    </tr>\n",
              "  </thead>\n",
              "  <tbody>\n",
              "    <tr>\n",
              "      <th>50</th>\n",
              "      <td>bollette_pagamenti</td>\n",
              "      <td>mancata_ricezione_fatturazione</td>\n",
              "      <td>0.651321</td>\n",
              "    </tr>\n",
              "    <tr>\n",
              "      <th>53</th>\n",
              "      <td>bollette_pagamenti</td>\n",
              "      <td>rateizzazione</td>\n",
              "      <td>0.669629</td>\n",
              "    </tr>\n",
              "    <tr>\n",
              "      <th>85</th>\n",
              "      <td>mancata_ricezione_fatturazione</td>\n",
              "      <td>rateizzazione</td>\n",
              "      <td>0.684165</td>\n",
              "    </tr>\n",
              "    <tr>\n",
              "      <th>39</th>\n",
              "      <td>bollette_generico</td>\n",
              "      <td>rateizzazione</td>\n",
              "      <td>0.692595</td>\n",
              "    </tr>\n",
              "    <tr>\n",
              "      <th>36</th>\n",
              "      <td>bollette_generico</td>\n",
              "      <td>mancata_ricezione_fatturazione</td>\n",
              "      <td>0.695527</td>\n",
              "    </tr>\n",
              "  </tbody>\n",
              "</table>\n",
              "</div>"
            ],
            "text/plain": [
              "                          Intent A                        Intent B  Separation\n",
              "50              bollette_pagamenti  mancata_ricezione_fatturazione    0.651321\n",
              "53              bollette_pagamenti                   rateizzazione    0.669629\n",
              "85  mancata_ricezione_fatturazione                   rateizzazione    0.684165\n",
              "39               bollette_generico                   rateizzazione    0.692595\n",
              "36               bollette_generico  mancata_ricezione_fatturazione    0.695527"
            ]
          },
          "metadata": {
            "tags": []
          }
        }
      ]
    },
    {
      "cell_type": "markdown",
      "metadata": {
        "id": "TS1krQTCzMww",
        "colab_type": "text"
      },
      "source": [
        "## License"
      ]
    },
    {
      "cell_type": "markdown",
      "metadata": {
        "id": "XQ01q3_azM6O",
        "colab_type": "text"
      },
      "source": [
        "Authors:  Marcello Stiner & Khalid Salama\n",
        "\n",
        "---\n",
        "**Disclaimer**: This is not an official Google product. The sample code provided for an educational purpose.\n",
        "\n",
        "---\n",
        "\n",
        "Copyright 2019 Google LLC\n",
        "\n",
        "Licensed under the Apache License, Version 2.0 (the \"License\");\n",
        "you may not use this file except in compliance with the License.\n",
        "You may obtain a copy of the License at http://www.apache.org/licenses/LICENSE-2.0.\n",
        "\n",
        "Unless required by applicable law or agreed to in writing, software\n",
        "distributed under the License is distributed on an \"AS IS\" BASIS,\n",
        "WITHOUT WARRANTIES OR CONDITIONS OF ANY KIND, either express or implied.\n",
        "See the License for the specific language governing permissions and\n",
        "limitations under the License.\n",
        "\n",
        "\n",
        "---\n"
      ]
    }
  ]
}